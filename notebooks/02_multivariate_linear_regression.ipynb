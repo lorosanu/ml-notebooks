{
 "cells": [
  {
   "cell_type": "markdown",
   "metadata": {},
   "source": [
    "## [Multivariate Linear Regression](https://machinelearningmastery.com/linear-regression-tutorial-using-gradient-descent-for-machine-learning/) applied for prediction"
   ]
  },
  {
   "cell_type": "markdown",
   "metadata": {},
   "source": [
    "### Description\n",
    "\n",
    "Multivariate linear regression is a statistical method that studies the relationship between multiple variables:\n",
    "* *m* variables $x=\\{x_1, x_2, ..., x_m\\}$: the predictor, explanatory, independent variables,\n",
    "* one y variable: the response, outcome, dependent variable."
   ]
  },
  {
   "cell_type": "markdown",
   "metadata": {},
   "source": [
    "### Definition\n",
    "\n",
    "With multivariate linear regression the data is modeled as follows  \n",
    "$y = w_0 + w_1 * x_1 + w_2 * x_2 + ... + w_m * x_m$  \n",
    "where $w_0, w_1, ..., w_m$ are the coefficients we must estimate from the training data.\n",
    "\n",
    "Coefficients can be found using (stochastic) gradient descent.  "
   ]
  },
  {
   "cell_type": "markdown",
   "metadata": {},
   "source": [
    "#### Gradient descent\n",
    "\n",
    "Gradient descent (GD) is the process of minimizing a function by following the gradients of the cost function.  \n",
    "This involves knowing the form of the cost function as well as the derivative,  \n",
    "so that from a given point you know the gradient and can move in that direction, e.g. downhill towards the minimum value.\n",
    "\n",
    "In GD optimization, the cost gradient is computed based on the *complete training set*  \n",
    "and the weights are updated incrementally after each epoch (each pass over the entire training dataset):  \n",
    "* the **cost function** is the sum of squared errors (SSE): $C = \\frac{1}{2n} \\sum_{i}^{n}{(\\hat{y}^{(i)} - y^{(i)})^2}$  \n",
    "* the magnitude and direction of the **weight update** are computed by taking a step in the opposite direction of the cost gradient:  \n",
    "$\\Delta w_j = -\\eta \\frac{\\partial C}{\\partial w_j} = \\eta \\frac{1}{n} \\sum_i^{n}{(\\hat{y}^{(i)} - y^{(i)})} x_j^{(i)}$  \n",
    "where $\\eta$ is the learning rate - a constant limiting the correction amount of each coefficient at each update\n",
    "* the weights are then updated after each epoch via the **update rule**: $w = w + \\Delta w$\n",
    "\n",
    "Using GD can be quite costly. The larger the training set:\n",
    "* the slower the algorithm updates the weights\n",
    "* the longer it may take until it converges to the global cost minimum."
   ]
  },
  {
   "cell_type": "code",
   "execution_count": 1,
   "metadata": {},
   "outputs": [],
   "source": [
    "def predict(x, weights):\n",
    "    return x.dot(weights)\n",
    "\n",
    "def compute_cost(x, y, weights):\n",
    "    lse = (np.dot(x, weights) - y)**2\n",
    "    return np.sum(lse) / (2 * len(y))\n",
    "\n",
    "def gradient_descent(x, y, learning_rate, epochs):\n",
    "    n = x.shape[0]\n",
    "    m = x.shape[-1]\n",
    "    weights = np.zeros(m)\n",
    "\n",
    "    costs = []\n",
    "    for epoch in range(epochs):\n",
    "        prediction = predict(x, weights)\n",
    "        error = prediction - y\n",
    "        gradient = x.T.dot(error) / n\n",
    "        weights -= learning_rate * gradient\n",
    "        costs.append(compute_cost(x, y, weights))\n",
    "\n",
    "    return weights, costs"
   ]
  },
  {
   "cell_type": "markdown",
   "metadata": {},
   "source": [
    "#### Stochastic gradient descent\n",
    "\n",
    "The stochastic gradient descent (SGD) is a *stochastic approximation* of the gradient descent optimization.  \n",
    "In SGD optimization we don't accumulate the weight updates; instead, we update the weights after *each training sample*.\n",
    "\n",
    "The way this optimization algorithm works:\n",
    "* the training instances are shown to the model one at a time: $x^{(i)}$\n",
    "* the model makes a prediction for each training instance\n",
    "  * the error is calculated: $\\hat{y}^{(i)} - y^{(i)}$\n",
    "  * the model is updated in order to reduce the error for the next prediction: $w = w - \\eta * (\\hat{y}^{(i)} - y^{(i)}) * x^{(i)}$\n",
    "* the process is repeated for a fixed number of iterations (*epochs*).\n",
    "\n",
    "We update each coefficient for each row in the training data, each epoch."
   ]
  },
  {
   "cell_type": "code",
   "execution_count": 2,
   "metadata": {},
   "outputs": [],
   "source": [
    "def stochastic_gradient_descent(x, y, learning_rate, epochs):\n",
    "    n = x.shape[0]\n",
    "    m = x.shape[-1]\n",
    "    weights = np.zeros(m)\n",
    "    \n",
    "    costs = []\n",
    "    for epoch in range(epochs):\n",
    "        for i in range(n):\n",
    "            prediction = predict(x[i], weights)\n",
    "            error = prediction - y[i]\n",
    "            weights -= learning_rate * error * x[i]\n",
    "            \n",
    "        costs.append(compute_cost(x, y, weights))\n",
    "        \n",
    "    return weights, costs"
   ]
  },
  {
   "cell_type": "markdown",
   "metadata": {},
   "source": [
    "#### Mini-batch gradient descent\n",
    "\n",
    "Mini-Batch Gradient Descent (MB-GD) is a compromise between GD and SGD.  \n",
    "\n",
    "In MB-GD, we update the model based on smaller groups of training samples.  \n",
    "Instead of computing the gradient from 1 training sample (SGD) or from all *n* training samples (GD),  \n",
    "we compute the gradient from $1 < k < n$ training samples (a common mini-batch size is k=32).  \n",
    "\n",
    "MB-GD converges in fewer iterations than GD because the weights are updated more frequently.  \n",
    "However, MB-GD makes use of vectorized operations, which typically results in a computational performance gain over SGD."
   ]
  },
  {
   "cell_type": "code",
   "execution_count": 3,
   "metadata": {},
   "outputs": [],
   "source": [
    "import random\n",
    "\n",
    "def minibatch_gradient_descent(x, y, batch_size, learning_rate, epochs):\n",
    "    n = x.shape[0]\n",
    "    m = x.shape[-1]\n",
    "    weights = np.zeros(m)\n",
    "    \n",
    "    costs = []\n",
    "    for epoch in range(epochs):\n",
    "        # shuffle the data (by index)\n",
    "        rand_index = list(range(n))\n",
    "        random.shuffle(rand_index)\n",
    "        \n",
    "        for i in range(0, n, batch_size):\n",
    "            # get a list of indices for the current minibatch\n",
    "            mb_index = rand_index[i:i + batch_size]\n",
    "            \n",
    "            sx = x[mb_index]\n",
    "            sy = y[mb_index] \n",
    "            \n",
    "            prediction = predict(sx, weights)\n",
    "            error = prediction - sy\n",
    "            gradient = sx.T.dot(error) / len(sx)\n",
    "            weights -= learning_rate * gradient\n",
    "            \n",
    "        costs.append(compute_cost(x, y, weights))\n",
    "        \n",
    "    return weights, costs"
   ]
  },
  {
   "cell_type": "markdown",
   "metadata": {},
   "source": [
    "### Application"
   ]
  },
  {
   "cell_type": "markdown",
   "metadata": {},
   "source": [
    "The predictive ability of the multivariate linear regression is tested on the [Boston house prices](https://www.kaggle.com/vikrishnan/boston-house-prices) dataset.  \n",
    "The houses are described in terms of size and number of bedrooms.  \n",
    "The target variable is their price.\n"
   ]
  },
  {
   "cell_type": "code",
   "execution_count": 4,
   "metadata": {},
   "outputs": [],
   "source": [
    "import os\n",
    "import numpy as np\n",
    "import pandas as pd\n",
    "import matplotlib.pyplot as plt\n",
    "%matplotlib inline"
   ]
  },
  {
   "cell_type": "code",
   "execution_count": 5,
   "metadata": {},
   "outputs": [
    {
     "data": {
      "text/html": [
       "<div>\n",
       "<style scoped>\n",
       "    .dataframe tbody tr th:only-of-type {\n",
       "        vertical-align: middle;\n",
       "    }\n",
       "\n",
       "    .dataframe tbody tr th {\n",
       "        vertical-align: top;\n",
       "    }\n",
       "\n",
       "    .dataframe thead th {\n",
       "        text-align: right;\n",
       "    }\n",
       "</style>\n",
       "<table border=\"1\" class=\"dataframe\">\n",
       "  <thead>\n",
       "    <tr style=\"text-align: right;\">\n",
       "      <th></th>\n",
       "      <th>CRIM</th>\n",
       "      <th>ZN</th>\n",
       "      <th>INDUS</th>\n",
       "      <th>CHAS</th>\n",
       "      <th>NOX</th>\n",
       "      <th>RM</th>\n",
       "      <th>AGE</th>\n",
       "      <th>DIS</th>\n",
       "      <th>RAD</th>\n",
       "      <th>TAX</th>\n",
       "      <th>PTRATIO</th>\n",
       "      <th>B</th>\n",
       "      <th>LSTAT</th>\n",
       "      <th>MEDV</th>\n",
       "    </tr>\n",
       "  </thead>\n",
       "  <tbody>\n",
       "    <tr>\n",
       "      <th>0</th>\n",
       "      <td>0.00632</td>\n",
       "      <td>18.0</td>\n",
       "      <td>2.31</td>\n",
       "      <td>0</td>\n",
       "      <td>0.538</td>\n",
       "      <td>6.575</td>\n",
       "      <td>65.2</td>\n",
       "      <td>4.0900</td>\n",
       "      <td>1</td>\n",
       "      <td>296.0</td>\n",
       "      <td>15.3</td>\n",
       "      <td>396.90</td>\n",
       "      <td>4.98</td>\n",
       "      <td>24.0</td>\n",
       "    </tr>\n",
       "    <tr>\n",
       "      <th>1</th>\n",
       "      <td>0.02731</td>\n",
       "      <td>0.0</td>\n",
       "      <td>7.07</td>\n",
       "      <td>0</td>\n",
       "      <td>0.469</td>\n",
       "      <td>6.421</td>\n",
       "      <td>78.9</td>\n",
       "      <td>4.9671</td>\n",
       "      <td>2</td>\n",
       "      <td>242.0</td>\n",
       "      <td>17.8</td>\n",
       "      <td>396.90</td>\n",
       "      <td>9.14</td>\n",
       "      <td>21.6</td>\n",
       "    </tr>\n",
       "    <tr>\n",
       "      <th>2</th>\n",
       "      <td>0.02729</td>\n",
       "      <td>0.0</td>\n",
       "      <td>7.07</td>\n",
       "      <td>0</td>\n",
       "      <td>0.469</td>\n",
       "      <td>7.185</td>\n",
       "      <td>61.1</td>\n",
       "      <td>4.9671</td>\n",
       "      <td>2</td>\n",
       "      <td>242.0</td>\n",
       "      <td>17.8</td>\n",
       "      <td>392.83</td>\n",
       "      <td>4.03</td>\n",
       "      <td>34.7</td>\n",
       "    </tr>\n",
       "    <tr>\n",
       "      <th>3</th>\n",
       "      <td>0.03237</td>\n",
       "      <td>0.0</td>\n",
       "      <td>2.18</td>\n",
       "      <td>0</td>\n",
       "      <td>0.458</td>\n",
       "      <td>6.998</td>\n",
       "      <td>45.8</td>\n",
       "      <td>6.0622</td>\n",
       "      <td>3</td>\n",
       "      <td>222.0</td>\n",
       "      <td>18.7</td>\n",
       "      <td>394.63</td>\n",
       "      <td>2.94</td>\n",
       "      <td>33.4</td>\n",
       "    </tr>\n",
       "    <tr>\n",
       "      <th>4</th>\n",
       "      <td>0.06905</td>\n",
       "      <td>0.0</td>\n",
       "      <td>2.18</td>\n",
       "      <td>0</td>\n",
       "      <td>0.458</td>\n",
       "      <td>7.147</td>\n",
       "      <td>54.2</td>\n",
       "      <td>6.0622</td>\n",
       "      <td>3</td>\n",
       "      <td>222.0</td>\n",
       "      <td>18.7</td>\n",
       "      <td>396.90</td>\n",
       "      <td>5.33</td>\n",
       "      <td>36.2</td>\n",
       "    </tr>\n",
       "  </tbody>\n",
       "</table>\n",
       "</div>"
      ],
      "text/plain": [
       "      CRIM    ZN  INDUS  CHAS    NOX     RM   AGE     DIS  RAD    TAX  \\\n",
       "0  0.00632  18.0   2.31     0  0.538  6.575  65.2  4.0900    1  296.0   \n",
       "1  0.02731   0.0   7.07     0  0.469  6.421  78.9  4.9671    2  242.0   \n",
       "2  0.02729   0.0   7.07     0  0.469  7.185  61.1  4.9671    2  242.0   \n",
       "3  0.03237   0.0   2.18     0  0.458  6.998  45.8  6.0622    3  222.0   \n",
       "4  0.06905   0.0   2.18     0  0.458  7.147  54.2  6.0622    3  222.0   \n",
       "\n",
       "   PTRATIO       B  LSTAT  MEDV  \n",
       "0     15.3  396.90   4.98  24.0  \n",
       "1     17.8  396.90   9.14  21.6  \n",
       "2     17.8  392.83   4.03  34.7  \n",
       "3     18.7  394.63   2.94  33.4  \n",
       "4     18.7  396.90   5.33  36.2  "
      ]
     },
     "execution_count": 5,
     "metadata": {},
     "output_type": "execute_result"
    }
   ],
   "source": [
    "data = pd.read_csv(\n",
    "    '/src/data/02_mlr_housing.csv', \n",
    "    header=None,\n",
    "    names=['CRIM', 'ZN', 'INDUS', 'CHAS', 'NOX', 'RM', 'AGE', 'DIS', 'RAD', 'TAX', 'PTRATIO', 'B', 'LSTAT', 'MEDV'])\n",
    "data.head()"
   ]
  },
  {
   "cell_type": "code",
   "execution_count": 6,
   "metadata": {},
   "outputs": [
    {
     "data": {
      "text/html": [
       "<div>\n",
       "<style scoped>\n",
       "    .dataframe tbody tr th:only-of-type {\n",
       "        vertical-align: middle;\n",
       "    }\n",
       "\n",
       "    .dataframe tbody tr th {\n",
       "        vertical-align: top;\n",
       "    }\n",
       "\n",
       "    .dataframe thead th {\n",
       "        text-align: right;\n",
       "    }\n",
       "</style>\n",
       "<table border=\"1\" class=\"dataframe\">\n",
       "  <thead>\n",
       "    <tr style=\"text-align: right;\">\n",
       "      <th></th>\n",
       "      <th>CRIM</th>\n",
       "      <th>ZN</th>\n",
       "      <th>INDUS</th>\n",
       "      <th>CHAS</th>\n",
       "      <th>NOX</th>\n",
       "      <th>RM</th>\n",
       "      <th>AGE</th>\n",
       "      <th>DIS</th>\n",
       "      <th>RAD</th>\n",
       "      <th>TAX</th>\n",
       "      <th>PTRATIO</th>\n",
       "      <th>B</th>\n",
       "      <th>LSTAT</th>\n",
       "      <th>MEDV</th>\n",
       "    </tr>\n",
       "  </thead>\n",
       "  <tbody>\n",
       "    <tr>\n",
       "      <th>count</th>\n",
       "      <td>506.000000</td>\n",
       "      <td>506.000000</td>\n",
       "      <td>506.000000</td>\n",
       "      <td>506.000000</td>\n",
       "      <td>506.000000</td>\n",
       "      <td>506.000000</td>\n",
       "      <td>506.000000</td>\n",
       "      <td>506.000000</td>\n",
       "      <td>506.000000</td>\n",
       "      <td>506.000000</td>\n",
       "      <td>506.000000</td>\n",
       "      <td>506.000000</td>\n",
       "      <td>506.000000</td>\n",
       "      <td>506.000000</td>\n",
       "    </tr>\n",
       "    <tr>\n",
       "      <th>mean</th>\n",
       "      <td>3.613524</td>\n",
       "      <td>11.363636</td>\n",
       "      <td>11.136779</td>\n",
       "      <td>0.069170</td>\n",
       "      <td>0.554695</td>\n",
       "      <td>6.284634</td>\n",
       "      <td>68.574901</td>\n",
       "      <td>3.795043</td>\n",
       "      <td>9.549407</td>\n",
       "      <td>408.237154</td>\n",
       "      <td>18.455534</td>\n",
       "      <td>356.674032</td>\n",
       "      <td>12.653063</td>\n",
       "      <td>22.532806</td>\n",
       "    </tr>\n",
       "    <tr>\n",
       "      <th>std</th>\n",
       "      <td>8.601545</td>\n",
       "      <td>23.322453</td>\n",
       "      <td>6.860353</td>\n",
       "      <td>0.253994</td>\n",
       "      <td>0.115878</td>\n",
       "      <td>0.702617</td>\n",
       "      <td>28.148861</td>\n",
       "      <td>2.105710</td>\n",
       "      <td>8.707259</td>\n",
       "      <td>168.537116</td>\n",
       "      <td>2.164946</td>\n",
       "      <td>91.294864</td>\n",
       "      <td>7.141062</td>\n",
       "      <td>9.197104</td>\n",
       "    </tr>\n",
       "    <tr>\n",
       "      <th>min</th>\n",
       "      <td>0.006320</td>\n",
       "      <td>0.000000</td>\n",
       "      <td>0.460000</td>\n",
       "      <td>0.000000</td>\n",
       "      <td>0.385000</td>\n",
       "      <td>3.561000</td>\n",
       "      <td>2.900000</td>\n",
       "      <td>1.129600</td>\n",
       "      <td>1.000000</td>\n",
       "      <td>187.000000</td>\n",
       "      <td>12.600000</td>\n",
       "      <td>0.320000</td>\n",
       "      <td>1.730000</td>\n",
       "      <td>5.000000</td>\n",
       "    </tr>\n",
       "    <tr>\n",
       "      <th>25%</th>\n",
       "      <td>0.082045</td>\n",
       "      <td>0.000000</td>\n",
       "      <td>5.190000</td>\n",
       "      <td>0.000000</td>\n",
       "      <td>0.449000</td>\n",
       "      <td>5.885500</td>\n",
       "      <td>45.025000</td>\n",
       "      <td>2.100175</td>\n",
       "      <td>4.000000</td>\n",
       "      <td>279.000000</td>\n",
       "      <td>17.400000</td>\n",
       "      <td>375.377500</td>\n",
       "      <td>6.950000</td>\n",
       "      <td>17.025000</td>\n",
       "    </tr>\n",
       "    <tr>\n",
       "      <th>50%</th>\n",
       "      <td>0.256510</td>\n",
       "      <td>0.000000</td>\n",
       "      <td>9.690000</td>\n",
       "      <td>0.000000</td>\n",
       "      <td>0.538000</td>\n",
       "      <td>6.208500</td>\n",
       "      <td>77.500000</td>\n",
       "      <td>3.207450</td>\n",
       "      <td>5.000000</td>\n",
       "      <td>330.000000</td>\n",
       "      <td>19.050000</td>\n",
       "      <td>391.440000</td>\n",
       "      <td>11.360000</td>\n",
       "      <td>21.200000</td>\n",
       "    </tr>\n",
       "    <tr>\n",
       "      <th>75%</th>\n",
       "      <td>3.677082</td>\n",
       "      <td>12.500000</td>\n",
       "      <td>18.100000</td>\n",
       "      <td>0.000000</td>\n",
       "      <td>0.624000</td>\n",
       "      <td>6.623500</td>\n",
       "      <td>94.075000</td>\n",
       "      <td>5.188425</td>\n",
       "      <td>24.000000</td>\n",
       "      <td>666.000000</td>\n",
       "      <td>20.200000</td>\n",
       "      <td>396.225000</td>\n",
       "      <td>16.955000</td>\n",
       "      <td>25.000000</td>\n",
       "    </tr>\n",
       "    <tr>\n",
       "      <th>max</th>\n",
       "      <td>88.976200</td>\n",
       "      <td>100.000000</td>\n",
       "      <td>27.740000</td>\n",
       "      <td>1.000000</td>\n",
       "      <td>0.871000</td>\n",
       "      <td>8.780000</td>\n",
       "      <td>100.000000</td>\n",
       "      <td>12.126500</td>\n",
       "      <td>24.000000</td>\n",
       "      <td>711.000000</td>\n",
       "      <td>22.000000</td>\n",
       "      <td>396.900000</td>\n",
       "      <td>37.970000</td>\n",
       "      <td>50.000000</td>\n",
       "    </tr>\n",
       "  </tbody>\n",
       "</table>\n",
       "</div>"
      ],
      "text/plain": [
       "             CRIM          ZN       INDUS        CHAS         NOX          RM  \\\n",
       "count  506.000000  506.000000  506.000000  506.000000  506.000000  506.000000   \n",
       "mean     3.613524   11.363636   11.136779    0.069170    0.554695    6.284634   \n",
       "std      8.601545   23.322453    6.860353    0.253994    0.115878    0.702617   \n",
       "min      0.006320    0.000000    0.460000    0.000000    0.385000    3.561000   \n",
       "25%      0.082045    0.000000    5.190000    0.000000    0.449000    5.885500   \n",
       "50%      0.256510    0.000000    9.690000    0.000000    0.538000    6.208500   \n",
       "75%      3.677082   12.500000   18.100000    0.000000    0.624000    6.623500   \n",
       "max     88.976200  100.000000   27.740000    1.000000    0.871000    8.780000   \n",
       "\n",
       "              AGE         DIS         RAD         TAX     PTRATIO           B  \\\n",
       "count  506.000000  506.000000  506.000000  506.000000  506.000000  506.000000   \n",
       "mean    68.574901    3.795043    9.549407  408.237154   18.455534  356.674032   \n",
       "std     28.148861    2.105710    8.707259  168.537116    2.164946   91.294864   \n",
       "min      2.900000    1.129600    1.000000  187.000000   12.600000    0.320000   \n",
       "25%     45.025000    2.100175    4.000000  279.000000   17.400000  375.377500   \n",
       "50%     77.500000    3.207450    5.000000  330.000000   19.050000  391.440000   \n",
       "75%     94.075000    5.188425   24.000000  666.000000   20.200000  396.225000   \n",
       "max    100.000000   12.126500   24.000000  711.000000   22.000000  396.900000   \n",
       "\n",
       "            LSTAT        MEDV  \n",
       "count  506.000000  506.000000  \n",
       "mean    12.653063   22.532806  \n",
       "std      7.141062    9.197104  \n",
       "min      1.730000    5.000000  \n",
       "25%      6.950000   17.025000  \n",
       "50%     11.360000   21.200000  \n",
       "75%     16.955000   25.000000  \n",
       "max     37.970000   50.000000  "
      ]
     },
     "execution_count": 6,
     "metadata": {},
     "output_type": "execute_result"
    }
   ],
   "source": [
    "data.describe()"
   ]
  },
  {
   "cell_type": "markdown",
   "metadata": {},
   "source": [
    "Note that these features have very different ranges of values.  \n",
    "When features differ by orders of magnitude, first perform feature scaling.  \n",
    "It can help gradient descent converge more quickly."
   ]
  },
  {
   "cell_type": "code",
   "execution_count": 7,
   "metadata": {},
   "outputs": [
    {
     "name": "stdout",
     "output_type": "stream",
     "text": [
      "New values in train data:\n",
      "         CRIM        ZN     INDUS      CHAS       NOX        RM       AGE  \\\n",
      "472 -0.033238 -0.470943  1.011787 -0.266931  0.187341  0.220733  0.201151   \n",
      "56  -0.416645  3.306369 -1.560932 -0.266931 -1.252807  0.145347 -1.189953   \n",
      "452  0.131172 -0.470943  1.011787 -0.266931  1.314044  0.025287  0.795822   \n",
      "29  -0.310542 -0.470943 -0.464266 -0.266931 -0.168461  0.551595  0.636535   \n",
      "4   -0.411404 -0.470943 -1.347527 -0.266931 -0.846177  1.211922 -0.535107   \n",
      "\n",
      "          DIS       RAD       TAX   PTRATIO         B     LSTAT      MEDV  \n",
      "472 -0.413583  1.606748  1.495232  0.796209  0.411760  0.247815  0.064212  \n",
      "56   2.548851 -0.884746 -0.589841 -0.560847  0.449951 -0.951743  0.225139  \n",
      "452 -0.662355  1.606748  1.495232  0.796209  0.322182  0.654184 -0.697508  \n",
      "29   0.218591 -0.658247 -0.625281  1.170569  0.269603 -0.084543 -0.171814  \n",
      "4    1.077123 -0.771496 -1.127352  0.094283  0.449951 -1.013188  1.458910  \n",
      "\n",
      "New values in test data:\n",
      "        CRIM        ZN     INDUS      CHAS       NOX        RM       AGE  \\\n",
      "5  -0.415640 -0.470943 -1.347527 -0.266931 -0.846177  0.210961 -0.375821   \n",
      "10 -0.394564  0.084544 -0.504280 -0.266931 -0.287061  0.136971  0.884315   \n",
      "12 -0.408732  0.084544 -0.504280 -0.266931 -0.287061 -0.544297 -1.073143   \n",
      "18 -0.332126 -0.470943 -0.464266 -0.266931 -0.168461 -1.148783 -1.158096   \n",
      "19 -0.340437 -0.470943 -0.464266 -0.266931 -0.168461 -0.770456  0.006468   \n",
      "\n",
      "         DIS       RAD       TAX   PTRATIO         B     LSTAT      MEDV  \n",
      "5   1.077123 -0.771496 -1.127352  0.094283  0.419875 -1.029945  0.654277  \n",
      "10  1.211092 -0.544997 -0.601654 -1.543542  0.402565  1.098258 -0.815521  \n",
      "12  0.789266 -0.544997 -0.601654 -1.543542  0.380711  0.436336 -0.096715  \n",
      "18  0.010221 -0.658247 -0.625281  1.170569 -0.717497 -0.125040 -0.257642  \n",
      "19  0.010221 -0.658247 -0.625281  1.170569  0.385579 -0.182295 -0.472211  \n"
     ]
    }
   ],
   "source": [
    "train = data.sample(frac=0.8)\n",
    "test = data.drop(train.index)\n",
    "\n",
    "train_mean = train.mean()\n",
    "train_std = train.std()\n",
    "\n",
    "train = (train - train_mean) / train_std\n",
    "test = (test - train_mean) / train_std\n",
    "\n",
    "print(\"New values in train data:\\n{}\".format(train.head()))\n",
    "print(\"\\nNew values in test data:\\n{}\".format(test.head()))"
   ]
  },
  {
   "cell_type": "code",
   "execution_count": 8,
   "metadata": {},
   "outputs": [
    {
     "data": {
      "text/plain": [
       "<matplotlib.axes._subplots.AxesSubplot at 0x7f47cae8fa20>"
      ]
     },
     "execution_count": 8,
     "metadata": {},
     "output_type": "execute_result"
    },
    {
     "data": {
      "image/png": "[encoded data removed]",
      "text/plain": [
       "<matplotlib.figure.Figure at 0x7f47cae88cc0>"
      ]
     },
     "metadata": {},
     "output_type": "display_data"
    }
   ],
   "source": [
    "train.plot(kind='scatter', x='CRIM', y='MEDV')"
   ]
  },
  {
   "cell_type": "code",
   "execution_count": 9,
   "metadata": {},
   "outputs": [
    {
     "data": {
      "text/plain": [
       "<matplotlib.axes._subplots.AxesSubplot at 0x7f47cae4fc50>"
      ]
     },
     "execution_count": 9,
     "metadata": {},
     "output_type": "execute_result"
    },
    {
     "data": {
      "image/png": "[encoded data removed]",
      "text/plain": [
       "<matplotlib.figure.Figure at 0x7f47c8dff278>"
      ]
     },
     "metadata": {},
     "output_type": "display_data"
    }
   ],
   "source": [
    "train.plot(kind='scatter', x='PTRATIO', y='MEDV')"
   ]
  },
  {
   "cell_type": "markdown",
   "metadata": {},
   "source": [
    "Use the $MEDV$ feature as the target variable and all other features as the predictor variables."
   ]
  },
  {
   "cell_type": "code",
   "execution_count": 10,
   "metadata": {},
   "outputs": [
    {
     "name": "stdout",
     "output_type": "stream",
     "text": [
      "(405, 14)\n"
     ]
    }
   ],
   "source": [
    "x = train.loc[:, train.columns != 'MEDV']\n",
    "x.insert(0, 'Ones', 1.0)\n",
    "x = x.values\n",
    "print(x.shape)"
   ]
  },
  {
   "cell_type": "code",
   "execution_count": 11,
   "metadata": {},
   "outputs": [
    {
     "name": "stdout",
     "output_type": "stream",
     "text": [
      "[ 0.06421176  0.22513852 -0.69750823 -0.17181415  1.45891034]\n",
      "(405,)\n"
     ]
    }
   ],
   "source": [
    "y = train.MEDV.values\n",
    "print(y[0:5])\n",
    "print(y.shape)"
   ]
  },
  {
   "cell_type": "markdown",
   "metadata": {},
   "source": [
    "Plot the cost over each epoch"
   ]
  },
  {
   "cell_type": "code",
   "execution_count": 12,
   "metadata": {},
   "outputs": [],
   "source": [
    "def plot_costs(costs):\n",
    "    plt.figure()\n",
    "    plt.plot(np.arange(len(costs)), costs, 'r')\n",
    "    plt.xlabel('Iterations')\n",
    "    plt.ylabel('Cost')\n",
    "    plt.title('Error vs. Training Epoch')\n",
    "    plt.show()\n",
    "    plt.close()"
   ]
  },
  {
   "cell_type": "markdown",
   "metadata": {},
   "source": [
    "#### Gradient descent evaluation"
   ]
  },
  {
   "cell_type": "code",
   "execution_count": 13,
   "metadata": {},
   "outputs": [
    {
     "name": "stdout",
     "output_type": "stream",
     "text": [
      "Weights: [0.0, -0.078, 0.037, -0.058, 0.094, -0.096, 0.343, 0.02, -0.177, 0.089, -0.029, -0.199, 0.085, -0.38]\n",
      "Final cost: 0.13966278863891748\n"
     ]
    }
   ],
   "source": [
    "# set the variables for gradient descent\n",
    "eta = 0.01\n",
    "epochs = 300\n",
    "\n",
    "weights, costs = gradient_descent(x, y, eta, epochs)\n",
    "print(\"Weights: {}\".format([w.round(3) for w in weights]))\n",
    "print(\"Final cost: {}\".format(costs[-1]))"
   ]
  },
  {
   "cell_type": "code",
   "execution_count": 14,
   "metadata": {},
   "outputs": [
    {
     "data": {
      "image/png": "[encoded data removed]",
      "text/plain": [
       "<matplotlib.figure.Figure at 0x7f47c8d6ba20>"
      ]
     },
     "metadata": {},
     "output_type": "display_data"
    }
   ],
   "source": [
    "plot_costs(costs)"
   ]
  },
  {
   "cell_type": "markdown",
   "metadata": {},
   "source": [
    "#### Stochastic gradient descent evaluation"
   ]
  },
  {
   "cell_type": "code",
   "execution_count": 15,
   "metadata": {},
   "outputs": [
    {
     "name": "stdout",
     "output_type": "stream",
     "text": [
      "Weights: [0.001, -0.114, 0.099, -0.006, 0.08, -0.259, 0.265, 0.081, -0.308, 0.336, -0.21, -0.248, 0.078, -0.455]\n",
      "Final cost: 0.13067854319963193\n"
     ]
    }
   ],
   "source": [
    "# set the variables for stochastic gradient descent\n",
    "eta = 0.001\n",
    "epochs = 200\n",
    "\n",
    "weights, costs = stochastic_gradient_descent(x, y, eta, epochs)\n",
    "print(\"Weights: {}\".format([w.round(3) for w in weights]))\n",
    "print(\"Final cost: {}\".format(costs[-1]))"
   ]
  },
  {
   "cell_type": "code",
   "execution_count": 16,
   "metadata": {},
   "outputs": [
    {
     "data": {
      "image/png": "[encoded data removed]",
      "text/plain": [
       "<matplotlib.figure.Figure at 0x7f47c8cc5518>"
      ]
     },
     "metadata": {},
     "output_type": "display_data"
    }
   ],
   "source": [
    "plot_costs(costs)"
   ]
  },
  {
   "cell_type": "markdown",
   "metadata": {},
   "source": [
    "#### Mini-batch gradient descent "
   ]
  },
  {
   "cell_type": "code",
   "execution_count": 17,
   "metadata": {},
   "outputs": [
    {
     "name": "stdout",
     "output_type": "stream",
     "text": [
      "Weights: [0.001, -0.104, 0.074, -0.052, 0.085, -0.223, 0.279, 0.068, -0.292, 0.218, -0.083, -0.238, 0.079, -0.452]\n",
      "Final cost: 0.1316906543233854\n"
     ]
    }
   ],
   "source": [
    "# set the variables for mini-batch gradient descent\n",
    "eta = 0.01\n",
    "epochs = 100\n",
    "batch_size = 32\n",
    "\n",
    "weights, costs = minibatch_gradient_descent(x, y, batch_size, eta, epochs)\n",
    "print(\"Weights: {}\".format([w.round(3) for w in weights]))\n",
    "print(\"Final cost: {}\".format(costs[-1]))"
   ]
  },
  {
   "cell_type": "code",
   "execution_count": 18,
   "metadata": {},
   "outputs": [
    {
     "data": {
      "image/png": "[encoded data removed]",
      "text/plain": [
       "<matplotlib.figure.Figure at 0x7f47c8d6b7b8>"
      ]
     },
     "metadata": {},
     "output_type": "display_data"
    }
   ],
   "source": [
    "plot_costs(costs)"
   ]
  },
  {
   "cell_type": "markdown",
   "metadata": {},
   "source": [
    "#### Solve the problem using sklearn's LinearRegression model"
   ]
  },
  {
   "cell_type": "code",
   "execution_count": 19,
   "metadata": {},
   "outputs": [
    {
     "name": "stdout",
     "output_type": "stream",
     "text": [
      "Model's coefficients\n",
      "Weights: [0.0, -0.114, 0.093, -0.002, 0.076, -0.256, 0.266, 0.08, -0.305, 0.336, -0.217, -0.247, 0.077, -0.454]\n"
     ]
    }
   ],
   "source": [
    "from sklearn.linear_model import LinearRegression\n",
    "\n",
    "x = train.loc[:, train.columns != 'MEDV'].values\n",
    "\n",
    "model = LinearRegression()\n",
    "model.fit(x, y)\n",
    "\n",
    "m = x.shape[-1] + 1\n",
    "weights = np.zeros(m)\n",
    "weights[0] = model.intercept_\n",
    "for i in range(1, m): \n",
    "    weights[i] = model.coef_[i-1]\n",
    "print(\"Model's coefficients\\nWeights: {}\".format([w.round(3) for w in weights]))"
   ]
  },
  {
   "cell_type": "markdown",
   "metadata": {},
   "source": [
    "#### Evaluate model performance"
   ]
  },
  {
   "cell_type": "code",
   "execution_count": 20,
   "metadata": {},
   "outputs": [
    {
     "name": "stdout",
     "output_type": "stream",
     "text": [
      "Model's predictive performance: r2=0.73\n"
     ]
    }
   ],
   "source": [
    "tx = test.loc[:, test.columns != 'MEDV'].values\n",
    "ty = test.MEDV.values\n",
    "\n",
    "print(\"Model's predictive performance: r2={:.2f}\".format(model.score(tx, ty)))"
   ]
  },
  {
   "cell_type": "code",
   "execution_count": null,
   "metadata": {},
   "outputs": [],
   "source": []
  }
 ],
 "metadata": {
  "kernelspec": {
   "display_name": "Python 3",
   "language": "python",
   "name": "python3"
  },
  "language_info": {
   "codemirror_mode": {
    "name": "ipython",
    "version": 3
   },
   "file_extension": ".py",
   "mimetype": "text/x-python",
   "name": "python",
   "nbconvert_exporter": "python",
   "pygments_lexer": "ipython3",
   "version": "3.5.2"
  }
 },
 "nbformat": 4,
 "nbformat_minor": 2
}

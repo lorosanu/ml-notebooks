{
 "cells": [
  {
   "cell_type": "markdown",
   "metadata": {},
   "source": [
    "## [Multivariate Linear Regression](https://machinelearningmastery.com/linear-regression-tutorial-using-gradient-descent-for-machine-learning/) applied for prediction"
   ]
  },
  {
   "cell_type": "markdown",
   "metadata": {},
   "source": [
    "### Description\n",
    "\n",
    "Multivariate linear regression is a statistical method that studies the relationship between multiple variables:\n",
    "* *m* variables $x=\\{x_1, x_2, ..., x_m\\}$: the predictor, explanatory, independent variables,\n",
    "* one y variable: the response, outcome, dependent variable."
   ]
  },
  {
   "cell_type": "markdown",
   "metadata": {},
   "source": [
    "### Definition\n",
    "\n",
    "With multivariate linear regression the data is modeled as follows  \n",
    "$y = w_0 + w_1 * x_1 + w_2 * x_2 + ... + w_m * x_m$  \n",
    "where $w_0, w_1, ..., w_m$ are the coefficients we must estimate from the training data.\n",
    "\n",
    "Coefficients can be found using (stochastic) gradient descent.  "
   ]
  },
  {
   "cell_type": "markdown",
   "metadata": {},
   "source": [
    "#### Gradient descent\n",
    "\n",
    "Gradient descent (GD) is the process of minimizing a function by following the gradients of the cost function.  \n",
    "This involves knowing the form of the cost function as well as the derivative  \n",
    "so that from a given point you know the gradient and can move in that direction, e.g. downhill towards the minimum value.\n",
    "\n",
    "In GD optimization, the cost gradient is computed based on the *complete training set*  \n",
    "and the weights are updated incrementally after each epoch (each pass over the entire training dataset):  \n",
    "* the **cost function** is the sum of squared errors (SSE): $C = \\frac{1}{2n} \\sum_{i}^{n}{(\\hat{y}^{(i)} - y^{(i)})^2}$  \n",
    "* the magnitude and direction of the **weight update** are computed by taking a step in the opposite direction of the cost gradient:  \n",
    "$\\Delta w_j = -\\eta \\frac{\\partial C}{\\partial w_j} = \\eta \\frac{1}{n} \\sum_i^{n}{(\\hat{y}^{(i)} - y^{(i)})} x_j^{(i)}$\n",
    "* the weights are then updated after each epoch via the **update rule**: $w = w + \\Delta w$\n",
    "\n",
    "Using GD can be quite costly: the larger the training set\n",
    "* the slower the algorithm updates the weights\n",
    "* the longer it may take until it converges to the global cost minimum."
   ]
  },
  {
   "cell_type": "code",
   "execution_count": 1,
   "metadata": {},
   "outputs": [],
   "source": [
    "def predict(x, weights):\n",
    "    return x.dot(weights)\n",
    "\n",
    "def compute_cost(x, y, weights):\n",
    "    lse = (np.dot(x, weights) - y)**2\n",
    "    return np.sum(lse) / (2 * len(y))\n",
    "\n",
    "def gradient_descent(x, y, learning_rate, epochs):\n",
    "    n = x.shape[0]\n",
    "    m = x.shape[-1]\n",
    "    weights = np.zeros(m)\n",
    "\n",
    "    costs = []\n",
    "    for epoch in range(epochs):\n",
    "        prediction = predict(x, weights)\n",
    "        error = prediction - y\n",
    "        gradient = x.T.dot(error) / n\n",
    "        weights -= learning_rate * gradient\n",
    "        costs.append(compute_cost(x, y, weights))\n",
    "\n",
    "    return weights, costs"
   ]
  },
  {
   "cell_type": "markdown",
   "metadata": {},
   "source": [
    "#### Stochastic gradient descent\n",
    "\n",
    "The stochastic gradient descent (SGD) is a *stochastic approximation* of the gradient descent optimization.  \n",
    "In SGD optimization we don't accumulate the weight updates; instead, we update the weights after *each training sample*.\n",
    "\n",
    "The way this optimization algorithm works:\n",
    "* the training instances are shown to the model one at a time: $x^{(i)}$\n",
    "* the model makes a prediction for each training instance\n",
    "  * the error is calculated: $\\hat{y}^{(i)} - y^{(i)}$\n",
    "  * the model is updated in order to reduce the error for the next prediction: $w = w - \\eta * (\\hat{y}^{(i)} - y^{(i)}) * x^{(i)}$\n",
    "* the process is repeated for a fixed number of iterations (*epochs*).\n",
    "\n",
    "We update each coefficient for each row in the training data, each epoch."
   ]
  },
  {
   "cell_type": "code",
   "execution_count": 2,
   "metadata": {},
   "outputs": [],
   "source": [
    "def stochastic_gradient_descent(x, y, learning_rate, epochs):\n",
    "    n = x.shape[0]\n",
    "    m = x.shape[-1]\n",
    "    weights = np.zeros(m)\n",
    "    \n",
    "    costs = []\n",
    "    for epoch in range(epochs):\n",
    "        for i in range(n):\n",
    "            prediction = predict(x[i], weights)\n",
    "            error = prediction - y[i]\n",
    "            weights -= learning_rate * error * x[i]\n",
    "            \n",
    "        costs.append(compute_cost(x, y, weights))\n",
    "        \n",
    "    return weights, costs"
   ]
  },
  {
   "cell_type": "markdown",
   "metadata": {},
   "source": [
    "#### Mini-batch gradient descent\n",
    "\n",
    "Mini-Batch Gradient Descent (MB-GD) is a compromise between GD and SGD.  \n",
    "\n",
    "In MB-GD, we update the model based on smaller groups of training samples.  \n",
    "Instead of computing the gradient from 1 training sample (SGD) or all *n* training samples (GD),  \n",
    "we compute the gradient from $1 < k < n$ training samples (a common mini-batch size is k=50).  \n",
    "\n",
    "MB-GD converges in fewer iterations than GD because the weights are updated more frequently.  \n",
    "However, MB-GD makes use of vectorized operation, which typically results in a computational performance gain over SGD."
   ]
  },
  {
   "cell_type": "markdown",
   "metadata": {},
   "source": [
    "### Application"
   ]
  },
  {
   "cell_type": "markdown",
   "metadata": {},
   "source": [
    "The predictive ability of the multivariate linear regression is tested on the [Boston house prices](https://www.kaggle.com/vikrishnan/boston-house-prices) dataset.  \n",
    "The houses are described in terms of size and number of bedrooms.  \n",
    "The target variable is their price.\n"
   ]
  },
  {
   "cell_type": "code",
   "execution_count": 3,
   "metadata": {},
   "outputs": [],
   "source": [
    "import os\n",
    "import numpy as np\n",
    "import pandas as pd\n",
    "import matplotlib.pyplot as plt\n",
    "%matplotlib inline"
   ]
  },
  {
   "cell_type": "code",
   "execution_count": 4,
   "metadata": {},
   "outputs": [
    {
     "data": {
      "text/html": [
       "<div>\n",
       "<style scoped>\n",
       "    .dataframe tbody tr th:only-of-type {\n",
       "        vertical-align: middle;\n",
       "    }\n",
       "\n",
       "    .dataframe tbody tr th {\n",
       "        vertical-align: top;\n",
       "    }\n",
       "\n",
       "    .dataframe thead th {\n",
       "        text-align: right;\n",
       "    }\n",
       "</style>\n",
       "<table border=\"1\" class=\"dataframe\">\n",
       "  <thead>\n",
       "    <tr style=\"text-align: right;\">\n",
       "      <th></th>\n",
       "      <th>CRIM</th>\n",
       "      <th>ZN</th>\n",
       "      <th>INDUS</th>\n",
       "      <th>CHAS</th>\n",
       "      <th>NOX</th>\n",
       "      <th>RM</th>\n",
       "      <th>AGE</th>\n",
       "      <th>DIS</th>\n",
       "      <th>RAD</th>\n",
       "      <th>TAX</th>\n",
       "      <th>PTRATIO</th>\n",
       "      <th>B</th>\n",
       "      <th>LSTAT</th>\n",
       "      <th>MEDV</th>\n",
       "    </tr>\n",
       "  </thead>\n",
       "  <tbody>\n",
       "    <tr>\n",
       "      <th>0</th>\n",
       "      <td>0.00632</td>\n",
       "      <td>18.0</td>\n",
       "      <td>2.31</td>\n",
       "      <td>0</td>\n",
       "      <td>0.538</td>\n",
       "      <td>6.575</td>\n",
       "      <td>65.2</td>\n",
       "      <td>4.0900</td>\n",
       "      <td>1</td>\n",
       "      <td>296.0</td>\n",
       "      <td>15.3</td>\n",
       "      <td>396.90</td>\n",
       "      <td>4.98</td>\n",
       "      <td>24.0</td>\n",
       "    </tr>\n",
       "    <tr>\n",
       "      <th>1</th>\n",
       "      <td>0.02731</td>\n",
       "      <td>0.0</td>\n",
       "      <td>7.07</td>\n",
       "      <td>0</td>\n",
       "      <td>0.469</td>\n",
       "      <td>6.421</td>\n",
       "      <td>78.9</td>\n",
       "      <td>4.9671</td>\n",
       "      <td>2</td>\n",
       "      <td>242.0</td>\n",
       "      <td>17.8</td>\n",
       "      <td>396.90</td>\n",
       "      <td>9.14</td>\n",
       "      <td>21.6</td>\n",
       "    </tr>\n",
       "    <tr>\n",
       "      <th>2</th>\n",
       "      <td>0.02729</td>\n",
       "      <td>0.0</td>\n",
       "      <td>7.07</td>\n",
       "      <td>0</td>\n",
       "      <td>0.469</td>\n",
       "      <td>7.185</td>\n",
       "      <td>61.1</td>\n",
       "      <td>4.9671</td>\n",
       "      <td>2</td>\n",
       "      <td>242.0</td>\n",
       "      <td>17.8</td>\n",
       "      <td>392.83</td>\n",
       "      <td>4.03</td>\n",
       "      <td>34.7</td>\n",
       "    </tr>\n",
       "    <tr>\n",
       "      <th>3</th>\n",
       "      <td>0.03237</td>\n",
       "      <td>0.0</td>\n",
       "      <td>2.18</td>\n",
       "      <td>0</td>\n",
       "      <td>0.458</td>\n",
       "      <td>6.998</td>\n",
       "      <td>45.8</td>\n",
       "      <td>6.0622</td>\n",
       "      <td>3</td>\n",
       "      <td>222.0</td>\n",
       "      <td>18.7</td>\n",
       "      <td>394.63</td>\n",
       "      <td>2.94</td>\n",
       "      <td>33.4</td>\n",
       "    </tr>\n",
       "    <tr>\n",
       "      <th>4</th>\n",
       "      <td>0.06905</td>\n",
       "      <td>0.0</td>\n",
       "      <td>2.18</td>\n",
       "      <td>0</td>\n",
       "      <td>0.458</td>\n",
       "      <td>7.147</td>\n",
       "      <td>54.2</td>\n",
       "      <td>6.0622</td>\n",
       "      <td>3</td>\n",
       "      <td>222.0</td>\n",
       "      <td>18.7</td>\n",
       "      <td>396.90</td>\n",
       "      <td>5.33</td>\n",
       "      <td>36.2</td>\n",
       "    </tr>\n",
       "  </tbody>\n",
       "</table>\n",
       "</div>"
      ],
      "text/plain": [
       "      CRIM    ZN  INDUS  CHAS    NOX     RM   AGE     DIS  RAD    TAX  \\\n",
       "0  0.00632  18.0   2.31     0  0.538  6.575  65.2  4.0900    1  296.0   \n",
       "1  0.02731   0.0   7.07     0  0.469  6.421  78.9  4.9671    2  242.0   \n",
       "2  0.02729   0.0   7.07     0  0.469  7.185  61.1  4.9671    2  242.0   \n",
       "3  0.03237   0.0   2.18     0  0.458  6.998  45.8  6.0622    3  222.0   \n",
       "4  0.06905   0.0   2.18     0  0.458  7.147  54.2  6.0622    3  222.0   \n",
       "\n",
       "   PTRATIO       B  LSTAT  MEDV  \n",
       "0     15.3  396.90   4.98  24.0  \n",
       "1     17.8  396.90   9.14  21.6  \n",
       "2     17.8  392.83   4.03  34.7  \n",
       "3     18.7  394.63   2.94  33.4  \n",
       "4     18.7  396.90   5.33  36.2  "
      ]
     },
     "execution_count": 4,
     "metadata": {},
     "output_type": "execute_result"
    }
   ],
   "source": [
    "data = pd.read_csv(\n",
    "    '/src/data/02_mlr_housing.csv', \n",
    "    header=None,\n",
    "    names=['CRIM', 'ZN', 'INDUS', 'CHAS', 'NOX', 'RM', 'AGE', 'DIS', 'RAD', 'TAX', 'PTRATIO', 'B', 'LSTAT', 'MEDV'])\n",
    "data.head()"
   ]
  },
  {
   "cell_type": "code",
   "execution_count": 5,
   "metadata": {},
   "outputs": [
    {
     "data": {
      "text/html": [
       "<div>\n",
       "<style scoped>\n",
       "    .dataframe tbody tr th:only-of-type {\n",
       "        vertical-align: middle;\n",
       "    }\n",
       "\n",
       "    .dataframe tbody tr th {\n",
       "        vertical-align: top;\n",
       "    }\n",
       "\n",
       "    .dataframe thead th {\n",
       "        text-align: right;\n",
       "    }\n",
       "</style>\n",
       "<table border=\"1\" class=\"dataframe\">\n",
       "  <thead>\n",
       "    <tr style=\"text-align: right;\">\n",
       "      <th></th>\n",
       "      <th>CRIM</th>\n",
       "      <th>ZN</th>\n",
       "      <th>INDUS</th>\n",
       "      <th>CHAS</th>\n",
       "      <th>NOX</th>\n",
       "      <th>RM</th>\n",
       "      <th>AGE</th>\n",
       "      <th>DIS</th>\n",
       "      <th>RAD</th>\n",
       "      <th>TAX</th>\n",
       "      <th>PTRATIO</th>\n",
       "      <th>B</th>\n",
       "      <th>LSTAT</th>\n",
       "      <th>MEDV</th>\n",
       "    </tr>\n",
       "  </thead>\n",
       "  <tbody>\n",
       "    <tr>\n",
       "      <th>count</th>\n",
       "      <td>506.000000</td>\n",
       "      <td>506.000000</td>\n",
       "      <td>506.000000</td>\n",
       "      <td>506.000000</td>\n",
       "      <td>506.000000</td>\n",
       "      <td>506.000000</td>\n",
       "      <td>506.000000</td>\n",
       "      <td>506.000000</td>\n",
       "      <td>506.000000</td>\n",
       "      <td>506.000000</td>\n",
       "      <td>506.000000</td>\n",
       "      <td>506.000000</td>\n",
       "      <td>506.000000</td>\n",
       "      <td>506.000000</td>\n",
       "    </tr>\n",
       "    <tr>\n",
       "      <th>mean</th>\n",
       "      <td>3.613524</td>\n",
       "      <td>11.363636</td>\n",
       "      <td>11.136779</td>\n",
       "      <td>0.069170</td>\n",
       "      <td>0.554695</td>\n",
       "      <td>6.284634</td>\n",
       "      <td>68.574901</td>\n",
       "      <td>3.795043</td>\n",
       "      <td>9.549407</td>\n",
       "      <td>408.237154</td>\n",
       "      <td>18.455534</td>\n",
       "      <td>356.674032</td>\n",
       "      <td>12.653063</td>\n",
       "      <td>22.532806</td>\n",
       "    </tr>\n",
       "    <tr>\n",
       "      <th>std</th>\n",
       "      <td>8.601545</td>\n",
       "      <td>23.322453</td>\n",
       "      <td>6.860353</td>\n",
       "      <td>0.253994</td>\n",
       "      <td>0.115878</td>\n",
       "      <td>0.702617</td>\n",
       "      <td>28.148861</td>\n",
       "      <td>2.105710</td>\n",
       "      <td>8.707259</td>\n",
       "      <td>168.537116</td>\n",
       "      <td>2.164946</td>\n",
       "      <td>91.294864</td>\n",
       "      <td>7.141062</td>\n",
       "      <td>9.197104</td>\n",
       "    </tr>\n",
       "    <tr>\n",
       "      <th>min</th>\n",
       "      <td>0.006320</td>\n",
       "      <td>0.000000</td>\n",
       "      <td>0.460000</td>\n",
       "      <td>0.000000</td>\n",
       "      <td>0.385000</td>\n",
       "      <td>3.561000</td>\n",
       "      <td>2.900000</td>\n",
       "      <td>1.129600</td>\n",
       "      <td>1.000000</td>\n",
       "      <td>187.000000</td>\n",
       "      <td>12.600000</td>\n",
       "      <td>0.320000</td>\n",
       "      <td>1.730000</td>\n",
       "      <td>5.000000</td>\n",
       "    </tr>\n",
       "    <tr>\n",
       "      <th>25%</th>\n",
       "      <td>0.082045</td>\n",
       "      <td>0.000000</td>\n",
       "      <td>5.190000</td>\n",
       "      <td>0.000000</td>\n",
       "      <td>0.449000</td>\n",
       "      <td>5.885500</td>\n",
       "      <td>45.025000</td>\n",
       "      <td>2.100175</td>\n",
       "      <td>4.000000</td>\n",
       "      <td>279.000000</td>\n",
       "      <td>17.400000</td>\n",
       "      <td>375.377500</td>\n",
       "      <td>6.950000</td>\n",
       "      <td>17.025000</td>\n",
       "    </tr>\n",
       "    <tr>\n",
       "      <th>50%</th>\n",
       "      <td>0.256510</td>\n",
       "      <td>0.000000</td>\n",
       "      <td>9.690000</td>\n",
       "      <td>0.000000</td>\n",
       "      <td>0.538000</td>\n",
       "      <td>6.208500</td>\n",
       "      <td>77.500000</td>\n",
       "      <td>3.207450</td>\n",
       "      <td>5.000000</td>\n",
       "      <td>330.000000</td>\n",
       "      <td>19.050000</td>\n",
       "      <td>391.440000</td>\n",
       "      <td>11.360000</td>\n",
       "      <td>21.200000</td>\n",
       "    </tr>\n",
       "    <tr>\n",
       "      <th>75%</th>\n",
       "      <td>3.677082</td>\n",
       "      <td>12.500000</td>\n",
       "      <td>18.100000</td>\n",
       "      <td>0.000000</td>\n",
       "      <td>0.624000</td>\n",
       "      <td>6.623500</td>\n",
       "      <td>94.075000</td>\n",
       "      <td>5.188425</td>\n",
       "      <td>24.000000</td>\n",
       "      <td>666.000000</td>\n",
       "      <td>20.200000</td>\n",
       "      <td>396.225000</td>\n",
       "      <td>16.955000</td>\n",
       "      <td>25.000000</td>\n",
       "    </tr>\n",
       "    <tr>\n",
       "      <th>max</th>\n",
       "      <td>88.976200</td>\n",
       "      <td>100.000000</td>\n",
       "      <td>27.740000</td>\n",
       "      <td>1.000000</td>\n",
       "      <td>0.871000</td>\n",
       "      <td>8.780000</td>\n",
       "      <td>100.000000</td>\n",
       "      <td>12.126500</td>\n",
       "      <td>24.000000</td>\n",
       "      <td>711.000000</td>\n",
       "      <td>22.000000</td>\n",
       "      <td>396.900000</td>\n",
       "      <td>37.970000</td>\n",
       "      <td>50.000000</td>\n",
       "    </tr>\n",
       "  </tbody>\n",
       "</table>\n",
       "</div>"
      ],
      "text/plain": [
       "             CRIM          ZN       INDUS        CHAS         NOX          RM  \\\n",
       "count  506.000000  506.000000  506.000000  506.000000  506.000000  506.000000   \n",
       "mean     3.613524   11.363636   11.136779    0.069170    0.554695    6.284634   \n",
       "std      8.601545   23.322453    6.860353    0.253994    0.115878    0.702617   \n",
       "min      0.006320    0.000000    0.460000    0.000000    0.385000    3.561000   \n",
       "25%      0.082045    0.000000    5.190000    0.000000    0.449000    5.885500   \n",
       "50%      0.256510    0.000000    9.690000    0.000000    0.538000    6.208500   \n",
       "75%      3.677082   12.500000   18.100000    0.000000    0.624000    6.623500   \n",
       "max     88.976200  100.000000   27.740000    1.000000    0.871000    8.780000   \n",
       "\n",
       "              AGE         DIS         RAD         TAX     PTRATIO           B  \\\n",
       "count  506.000000  506.000000  506.000000  506.000000  506.000000  506.000000   \n",
       "mean    68.574901    3.795043    9.549407  408.237154   18.455534  356.674032   \n",
       "std     28.148861    2.105710    8.707259  168.537116    2.164946   91.294864   \n",
       "min      2.900000    1.129600    1.000000  187.000000   12.600000    0.320000   \n",
       "25%     45.025000    2.100175    4.000000  279.000000   17.400000  375.377500   \n",
       "50%     77.500000    3.207450    5.000000  330.000000   19.050000  391.440000   \n",
       "75%     94.075000    5.188425   24.000000  666.000000   20.200000  396.225000   \n",
       "max    100.000000   12.126500   24.000000  711.000000   22.000000  396.900000   \n",
       "\n",
       "            LSTAT        MEDV  \n",
       "count  506.000000  506.000000  \n",
       "mean    12.653063   22.532806  \n",
       "std      7.141062    9.197104  \n",
       "min      1.730000    5.000000  \n",
       "25%      6.950000   17.025000  \n",
       "50%     11.360000   21.200000  \n",
       "75%     16.955000   25.000000  \n",
       "max     37.970000   50.000000  "
      ]
     },
     "execution_count": 5,
     "metadata": {},
     "output_type": "execute_result"
    }
   ],
   "source": [
    "data.describe()"
   ]
  },
  {
   "cell_type": "markdown",
   "metadata": {},
   "source": [
    "Note that these features have very different ranges of values.  \n",
    "When features differ by orders of magnitude, first perform feature scaling.  \n",
    "It can help gradient descent converge more quickly."
   ]
  },
  {
   "cell_type": "code",
   "execution_count": 6,
   "metadata": {},
   "outputs": [
    {
     "name": "stdout",
     "output_type": "stream",
     "text": [
      "New values in train data:\n",
      "         CRIM        ZN     INDUS      CHAS       NOX        RM       AGE  \\\n",
      "261 -0.348886  0.328181 -1.023601 -0.261595  0.793966  1.824882  0.721833   \n",
      "136 -0.372607 -0.502527  1.551876 -0.261595  0.596125 -0.517432  0.868349   \n",
      "308 -0.353501 -0.502527 -0.171336 -0.261595 -0.092018  0.511227  0.475257   \n",
      "265 -0.323368  0.328181 -1.023601 -0.261595  0.793966 -1.084456 -0.228734   \n",
      "325 -0.387277 -0.502527 -0.533513 -0.261595 -0.530709  0.208418 -1.947617   \n",
      "\n",
      "          DIS       RAD       TAX   PTRATIO         B     LSTAT      MEDV  \n",
      "261 -0.776867 -0.508671 -0.848149 -2.526454  0.343315 -0.775607  2.291392  \n",
      "136 -0.858423 -0.624799  0.188603  1.263570  0.231103  0.551738 -0.531288  \n",
      "308 -0.221353 -0.624799 -0.608438 -0.030585  0.437898 -1.150127  0.061804  \n",
      "265 -0.849177 -0.508671 -0.848149 -2.526454  0.388001 -0.336371  0.061804  \n",
      "325  0.768450 -0.508671 -0.710315  0.524053  0.402194 -1.075774  0.259502  \n",
      "\n",
      "New values in test data:\n",
      "        CRIM        ZN     INDUS      CHAS       NOX        RM       AGE  \\\n",
      "1  -0.405734 -0.502527 -0.578066 -0.261595 -0.737152  0.193575  0.346609   \n",
      "4  -0.401052 -0.502527 -1.280861 -0.261595 -0.831771  1.271217 -0.536061   \n",
      "6  -0.398894  0.016665 -0.463090 -0.261595 -0.264054 -0.413527 -0.092939   \n",
      "9  -0.389724  0.016665 -0.463090 -0.261595 -0.264054 -0.425402  0.596758   \n",
      "15 -0.338424 -0.502527 -0.424285 -0.261595 -0.143629 -0.677742 -0.453869   \n",
      "\n",
      "         DIS       RAD       TAX   PTRATIO         B     LSTAT      MEDV  \n",
      "1   0.556754 -0.857056 -0.979991 -0.307904  0.437898 -0.516747 -0.069994  \n",
      "4   1.073306 -0.740928 -1.099846  0.108074  0.437898 -1.041351  1.533552  \n",
      "6   0.836657 -0.508671 -0.566488 -1.509619  0.423483 -0.063743  0.072787  \n",
      "9   1.323257 -0.508671 -0.566488 -1.509619  0.324909  0.579276 -0.366540  \n",
      "15  0.335765 -0.624799 -0.590460  1.171130  0.423705 -0.609000 -0.256708  \n"
     ]
    }
   ],
   "source": [
    "train = data.sample(frac=0.8)\n",
    "test = data.drop(train.index)\n",
    "\n",
    "train_mean = train.mean()\n",
    "train_std = train.std()\n",
    "\n",
    "train = (train - train_mean) / train_std\n",
    "test = (test - train_mean) / train_std\n",
    "\n",
    "print(\"New values in train data:\\n{}\".format(train.head()))\n",
    "print(\"\\nNew values in test data:\\n{}\".format(test.head()))"
   ]
  },
  {
   "cell_type": "code",
   "execution_count": 7,
   "metadata": {},
   "outputs": [
    {
     "data": {
      "text/plain": [
       "<matplotlib.axes._subplots.AxesSubplot at 0x7f158493f160>"
      ]
     },
     "execution_count": 7,
     "metadata": {},
     "output_type": "execute_result"
    },
    {
     "data": {
      "image/png": "[encoded data removed]",
      "text/plain": [
       "<matplotlib.figure.Figure at 0x7f15a814d588>"
      ]
     },
     "metadata": {},
     "output_type": "display_data"
    }
   ],
   "source": [
    "train.plot(kind='scatter', x='CRIM', y='MEDV')"
   ]
  },
  {
   "cell_type": "code",
   "execution_count": 8,
   "metadata": {},
   "outputs": [
    {
     "data": {
      "text/plain": [
       "<matplotlib.axes._subplots.AxesSubplot at 0x7f1582926fd0>"
      ]
     },
     "execution_count": 8,
     "metadata": {},
     "output_type": "execute_result"
    },
    {
     "data": {
      "image/png": "[encoded data removed]",
      "text/plain": [
       "<matplotlib.figure.Figure at 0x7f15828cf6a0>"
      ]
     },
     "metadata": {},
     "output_type": "display_data"
    }
   ],
   "source": [
    "train.plot(kind='scatter', x='PTRATIO', y='MEDV')"
   ]
  },
  {
   "cell_type": "markdown",
   "metadata": {},
   "source": [
    "Use the $MEDV$ feature as the target variable and all other features as the predictor variables."
   ]
  },
  {
   "cell_type": "code",
   "execution_count": 9,
   "metadata": {},
   "outputs": [
    {
     "name": "stdout",
     "output_type": "stream",
     "text": [
      "(405, 14)\n"
     ]
    }
   ],
   "source": [
    "x = train.loc[:, train.columns != 'MEDV']\n",
    "x.insert(0, 'Ones', 1.0)\n",
    "x = x.values\n",
    "print(x.shape)"
   ]
  },
  {
   "cell_type": "code",
   "execution_count": 10,
   "metadata": {},
   "outputs": [
    {
     "name": "stdout",
     "output_type": "stream",
     "text": [
      "[ 2.29139189 -0.53128812  0.06180418  0.06180418  0.25950161]\n",
      "(405,)\n"
     ]
    }
   ],
   "source": [
    "y = train.MEDV.values\n",
    "print(y[0:5])\n",
    "print(y.shape)"
   ]
  },
  {
   "cell_type": "markdown",
   "metadata": {},
   "source": [
    "Plot the cost over each epoch"
   ]
  },
  {
   "cell_type": "code",
   "execution_count": 11,
   "metadata": {},
   "outputs": [],
   "source": [
    "def plot_costs(costs):\n",
    "    plt.figure(figsize=(12,8))\n",
    "    plt.plot(np.arange(len(costs)), costs, 'r')\n",
    "    plt.xlabel('Iterations')\n",
    "    plt.ylabel('Cost')\n",
    "    plt.title('Error vs. Training Epoch')\n",
    "    plt.show()\n",
    "    plt.close()"
   ]
  },
  {
   "cell_type": "markdown",
   "metadata": {},
   "source": [
    "#### Gradient descent evaluation"
   ]
  },
  {
   "cell_type": "code",
   "execution_count": 12,
   "metadata": {},
   "outputs": [
    {
     "name": "stdout",
     "output_type": "stream",
     "text": [
      "Weights: [ 1.98731566e-15 -7.38415700e-02  2.34718568e-02 -3.94675159e-02\n",
      "  7.37827721e-02 -8.53980009e-02  4.22670427e-01 -3.42928059e-02\n",
      " -1.66814013e-01  2.30506743e-02 -6.70026393e-02 -1.96794013e-01\n",
      "  7.71769612e-02 -2.70458834e-01]\n",
      "Final cost: 0.11405542742542468\n"
     ]
    }
   ],
   "source": [
    "# set the variables for gradient descent\n",
    "eta = 0.01\n",
    "epochs = 300\n",
    "\n",
    "weights, costs = gradient_descent(x, y, eta, epochs)\n",
    "print(\"Weights: {}\".format(weights))\n",
    "print(\"Final cost: {}\".format(costs[-1]))"
   ]
  },
  {
   "cell_type": "code",
   "execution_count": 13,
   "metadata": {},
   "outputs": [
    {
     "data": {
      "image/png": "[encoded data removed]",
      "text/plain": [
       "<matplotlib.figure.Figure at 0x7f158289aef0>"
      ]
     },
     "metadata": {},
     "output_type": "display_data"
    }
   ],
   "source": [
    "plot_costs(costs)"
   ]
  },
  {
   "cell_type": "markdown",
   "metadata": {},
   "source": [
    "#### Stochastic gradient descent evaluation"
   ]
  },
  {
   "cell_type": "code",
   "execution_count": 14,
   "metadata": {},
   "outputs": [
    {
     "name": "stdout",
     "output_type": "stream",
     "text": [
      "Weights: [ 0.00232599 -0.11005727  0.07383518  0.02772018  0.06539271 -0.2270395\n",
      "  0.41847624 -0.06377261 -0.31464162  0.17084051 -0.1843531  -0.22562293\n",
      "  0.08261019 -0.26685471]\n",
      "Final cost: 0.10898485201875063\n"
     ]
    }
   ],
   "source": [
    "# set the variables for gradient descent\n",
    "eta = 0.001\n",
    "epochs = 200\n",
    "\n",
    "weights, costs = stochastic_gradient_descent(x, y, eta, epochs)\n",
    "print(\"Weights: {}\".format(weights))\n",
    "print(\"Final cost: {}\".format(costs[-1]))"
   ]
  },
  {
   "cell_type": "code",
   "execution_count": 15,
   "metadata": {},
   "outputs": [
    {
     "data": {
      "image/png": "[encoded data removed]",
      "text/plain": [
       "<matplotlib.figure.Figure at 0x7f1584966be0>"
      ]
     },
     "metadata": {},
     "output_type": "display_data"
    }
   ],
   "source": [
    "plot_costs(costs)"
   ]
  },
  {
   "cell_type": "markdown",
   "metadata": {},
   "source": [
    "#### Using sklearn"
   ]
  },
  {
   "cell_type": "code",
   "execution_count": 16,
   "metadata": {},
   "outputs": [
    {
     "name": "stdout",
     "output_type": "stream",
     "text": [
      "Model's coefficients: w=[-0.26425191 -0.10154449  0.07232453  0.02540254  0.06530485 -0.2240451\n",
      "  0.41153664 -0.06137898 -0.31151634  0.17448758 -0.1842535  -0.22174242\n",
      "  0.08060036 -0.26425191]\n"
     ]
    }
   ],
   "source": [
    "from sklearn.linear_model import LinearRegression\n",
    "\n",
    "x = train.loc[:, train.columns != 'MEDV']\n",
    "x = x.values\n",
    "\n",
    "model = LinearRegression()\n",
    "model.fit(x, y)\n",
    "\n",
    "m = x.shape[-1] + 1\n",
    "weights = np.zeros(m)\n",
    "weights[0] = model.intercept_\n",
    "for i in range(m): \n",
    "    weights[i] = model.coef_[i-1]\n",
    "print(\"Model's coefficients: w={}\".format(weights))"
   ]
  },
  {
   "cell_type": "code",
   "execution_count": 17,
   "metadata": {},
   "outputs": [
    {
     "name": "stdout",
     "output_type": "stream",
     "text": [
      "Model's predictive performance: r2_score=0.51\n"
     ]
    }
   ],
   "source": [
    "tx = test.loc[:, test.columns != 'MEDV'].values\n",
    "ty = test.MEDV.values\n",
    "\n",
    "print(\"Model's predictive performance: r2_score={:.2}\".format(model.score(tx, ty)))"
   ]
  },
  {
   "cell_type": "code",
   "execution_count": null,
   "metadata": {},
   "outputs": [],
   "source": []
  }
 ],
 "metadata": {
  "kernelspec": {
   "display_name": "Python 3",
   "language": "python",
   "name": "python3"
  },
  "language_info": {
   "codemirror_mode": {
    "name": "ipython",
    "version": 3
   },
   "file_extension": ".py",
   "mimetype": "text/x-python",
   "name": "python",
   "nbconvert_exporter": "python",
   "pygments_lexer": "ipython3",
   "version": "3.5.2"
  }
 },
 "nbformat": 4,
 "nbformat_minor": 2
}
